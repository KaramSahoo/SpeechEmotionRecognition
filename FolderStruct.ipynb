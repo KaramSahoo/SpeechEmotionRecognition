{
 "cells": [
  {
   "cell_type": "code",
   "execution_count": 1,
   "id": "36816b31",
   "metadata": {},
   "outputs": [],
   "source": [
    "from os.path import join\n",
    "from os import listdir, rmdir, mkdir\n",
    "from shutil import move"
   ]
  },
  {
   "cell_type": "code",
   "execution_count": 13,
   "id": "0c74573f",
   "metadata": {},
   "outputs": [],
   "source": [
    "root = 'KL'\n",
    "toMove = 'Train'"
   ]
  },
  {
   "cell_type": "code",
   "execution_count": 14,
   "id": "b8b5e250",
   "metadata": {},
   "outputs": [],
   "source": [
    "for filename in listdir(root):\n",
    "    move(join(root, filename), join(toMove, 'KL'+filename))"
   ]
  },
  {
   "cell_type": "code",
   "execution_count": null,
   "id": "b5ee844d",
   "metadata": {},
   "outputs": [],
   "source": []
  }
 ],
 "metadata": {
  "hide_input": false,
  "kernelspec": {
   "display_name": "Python 3",
   "language": "python",
   "name": "python3"
  },
  "language_info": {
   "codemirror_mode": {
    "name": "ipython",
    "version": 3
   },
   "file_extension": ".py",
   "mimetype": "text/x-python",
   "name": "python",
   "nbconvert_exporter": "python",
   "pygments_lexer": "ipython3",
   "version": "3.8.8"
  }
 },
 "nbformat": 4,
 "nbformat_minor": 5
}
